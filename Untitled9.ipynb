{
  "nbformat": 4,
  "nbformat_minor": 0,
  "metadata": {
    "colab": {
      "provenance": [],
      "authorship_tag": "ABX9TyPYX8jJw+T8aRCWwLkGI18O",
      "include_colab_link": true
    },
    "kernelspec": {
      "name": "python3",
      "display_name": "Python 3"
    },
    "language_info": {
      "name": "python"
    }
  },
  "cells": [
    {
      "cell_type": "markdown",
      "metadata": {
        "id": "view-in-github",
        "colab_type": "text"
      },
      "source": [
        "<a href=\"https://colab.research.google.com/github/vishal815/Silhouette-Coefficient-Calculation-and-Cluster-Diagram/blob/main/Untitled9.ipynb\" target=\"_parent\"><img src=\"https://colab.research.google.com/assets/colab-badge.svg\" alt=\"Open In Colab\"/></a>"
      ]
    },
    {
      "cell_type": "markdown",
      "source": [
        "**Silhouette Coefficient Calculation and Cluster Diagram Generation**"
      ],
      "metadata": {
        "id": "9SCZQHr0SVv_"
      }
    },
    {
      "cell_type": "code",
      "execution_count": null,
      "metadata": {
        "id": "a-1PNMoXPsP0"
      },
      "outputs": [],
      "source": []
    },
    {
      "cell_type": "code",
      "source": [
        "from scipy.spatial import distance_matrix\n",
        "from sklearn.metrics import silhouette_score\n",
        "from sklearn.manifold import MDS\n",
        "import matplotlib.pyplot as plt\n",
        "import numpy as np\n",
        "import math\n",
        "\n",
        "def round_up(value, decimal_places=2):\n",
        "    factor = 10 ** decimal_places\n",
        "    return math.ceil(value * factor) / factor\n",
        "\n",
        "a1 = (2,5)\n",
        "a2 = (3,4)\n",
        "a3 = (5,6)\n",
        "b1 = (8,6)\n",
        "b2 = (9,4)\n",
        "b3 = (10,5)\n",
        "c1 = (6,10)\n",
        "c2 = (7,8)\n",
        "c3 = (8,9)\n",
        "\n",
        "a = np.array([a1, a2, a3, b1, b2, b3, c1, c2, c3])\n",
        "dist_matrix = distance_matrix(a, a)\n",
        "dist_matrix_rounded = np.vectorize(round_up)(dist_matrix)\n",
        "print(\"Distance matrix:\")\n",
        "print(dist_matrix_rounded)\n",
        "\n"
      ],
      "metadata": {
        "colab": {
          "base_uri": "https://localhost:8080/"
        },
        "id": "j_BBUXjTRfZr",
        "outputId": "c8e72ee6-b655-4974-822e-eaa8739e372e"
      },
      "execution_count": 1,
      "outputs": [
        {
          "output_type": "stream",
          "name": "stdout",
          "text": [
            "Distance matrix:\n",
            "[[0.   1.42 3.17 6.09 7.08 8.   6.41 5.84 7.22]\n",
            " [1.42 0.   2.83 5.39 6.   7.08 6.71 5.66 7.08]\n",
            " [3.17 2.83 0.   3.   4.48 5.1  4.13 2.83 4.25]\n",
            " [6.09 5.39 3.   0.   2.24 2.24 4.48 2.24 3.  ]\n",
            " [7.08 6.   4.48 2.24 0.   1.42 6.71 4.48 5.1 ]\n",
            " [8.   7.08 5.1  2.24 1.42 0.   6.41 4.25 4.48]\n",
            " [6.41 6.71 4.13 4.48 6.71 6.41 0.   2.24 2.24]\n",
            " [5.84 5.66 2.83 2.24 4.48 4.25 2.24 0.   1.42]\n",
            " [7.22 7.08 4.25 3.   5.1  4.48 2.24 1.42 0.  ]]\n"
          ]
        }
      ]
    },
    {
      "cell_type": "code",
      "source": [
        "# For illustration purposes, let's consider a scenario with 3 clusters,\n",
        "# where each cluster has 3 two-dimensional points\n",
        "X = np.array([a1, a2, a3, b1, b2, b3, c1, c2, c3])\n",
        "cluster_labels = np.array([0, 0, 0, 1, 1, 1, 2, 2, 2])\n",
        "silhouette_avg = silhouette_score(X, cluster_labels)\n",
        "print(\"For n_clusters =\", len(set(cluster_labels)), \"The average silhouette_score is :\", round_up(silhouette_avg))"
      ],
      "metadata": {
        "colab": {
          "base_uri": "https://localhost:8080/"
        },
        "id": "K8hYIutASl0O",
        "outputId": "353b16f9-c66f-4e24-db82-b4aac469eea4"
      },
      "execution_count": 2,
      "outputs": [
        {
          "output_type": "stream",
          "name": "stdout",
          "text": [
            "For n_clusters = 3 The average silhouette_score is : 0.54\n"
          ]
        }
      ]
    },
    {
      "cell_type": "code",
      "source": [
        "# Generate cluster diagram\n",
        "mds = MDS(n_components=2)\n",
        "X_transformed = mds.fit_transform(X)\n",
        "colors = ['r', 'g', 'b']\n",
        "for i in range(len(X)):\n",
        "    plt.scatter(X_transformed[i][0], X_transformed[i][1], color=colors[cluster_labels[i]])\n",
        "plt.title('Cluster Diagram')\n",
        "plt.show()\n"
      ],
      "metadata": {
        "colab": {
          "base_uri": "https://localhost:8080/",
          "height": 507
        },
        "id": "dy5wws5aSl_q",
        "outputId": "84db2af6-c04f-4e45-fa04-f4710c3d8116"
      },
      "execution_count": 3,
      "outputs": [
        {
          "output_type": "stream",
          "name": "stderr",
          "text": [
            "/usr/local/lib/python3.10/dist-packages/sklearn/manifold/_mds.py:299: FutureWarning: The default value of `normalized_stress` will change to `'auto'` in version 1.4. To suppress this warning, manually set the value of `normalized_stress`.\n",
            "  warnings.warn(\n"
          ]
        },
        {
          "output_type": "display_data",
          "data": {
            "text/plain": [
              "<Figure size 640x480 with 1 Axes>"
            ],
            "image/png": "[encoded data removed]"
          },
          "metadata": {}
        }
      ]
    }
  ]
}